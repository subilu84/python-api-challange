{
 "cells": [
  {
   "cell_type": "markdown",
   "metadata": {},
   "source": [
    "# WeatherPy\n",
    "----\n",
    "\n",
    "#### Note\n",
    "* Instructions have been included for each segment. You do not have to follow them exactly, but they are included to help you think through the steps."
   ]
  },
  {
   "cell_type": "code",
   "execution_count": 1,
   "metadata": {
    "scrolled": true
   },
   "outputs": [
    {
     "name": "stdout",
     "output_type": "stream",
     "text": [
      "Requirement already satisfied: citipy in c:\\users\\subil\\appdata\\local\\continuum\\anaconda3\\lib\\site-packages (0.0.5)\n",
      "Requirement already satisfied: kdtree>=0.12 in c:\\users\\subil\\appdata\\local\\continuum\\anaconda3\\lib\\site-packages (from citipy) (0.16)\n"
     ]
    }
   ],
   "source": [
    "# Dependencies and Setup\n",
    "!pip install citipy\n",
    "import matplotlib.pyplot as plt\n",
    "import pandas as pd\n",
    "import numpy as np\n",
    "import requests\n",
    "import time\n",
    "from scipy.stats import linregress\n",
    "import scipy.stats as st\n",
    "\n",
    "# Import API key\n",
    "from api_keys import weather_api_key\n",
    "\n",
    "# Incorporated citipy to determine city based on latitude and longitude\n",
    "from citipy import citipy\n",
    "\n",
    "# Output File (CSV)\n",
    "output_data_file = \"data_cities.csv\"\n",
    "\n",
    "# Range of latitudes and longitudes\n",
    "lat_range = (-90, 90)\n",
    "lng_range = (-180, 180)"
   ]
  },
  {
   "cell_type": "markdown",
   "metadata": {},
   "source": [
    "## Generate Cities List"
   ]
  },
  {
   "cell_type": "code",
   "execution_count": 2,
   "metadata": {},
   "outputs": [
    {
     "data": {
      "text/plain": [
       "618"
      ]
     },
     "execution_count": 2,
     "metadata": {},
     "output_type": "execute_result"
    }
   ],
   "source": [
    "# List for holding lat_lngs and cities\n",
    "lat_lngs = []\n",
    "cities = []\n",
    "\n",
    "# Create a set of random lat and lng combinations\n",
    "lats = np.random.uniform(low=-90.000, high=90.000, size=1500)\n",
    "lngs = np.random.uniform(low=-180.000, high=180.000, size=1500)\n",
    "lat_lngs = zip(lats, lngs)\n",
    "\n",
    "# Identify nearest city for each lat, lng combination\n",
    "for lat_lng in lat_lngs:\n",
    "    city = citipy.nearest_city(lat_lng[0], lat_lng[1]).city_name\n",
    "    \n",
    "    # If the city is unique, then add it to a our cities list\n",
    "    if city not in cities:\n",
    "        cities.append(city)\n",
    "\n",
    "# Print the city count to confirm sufficient count\n",
    "len(cities)"
   ]
  },
  {
   "cell_type": "markdown",
   "metadata": {},
   "source": [
    "### Perform API Calls\n",
    "* Perform a weather check on each city using a series of successive API calls.\n",
    "* Include a print log of each city as it'sbeing processed (with the city number and city name).\n"
   ]
  },
  {
   "cell_type": "code",
   "execution_count": 4,
   "metadata": {},
   "outputs": [
    {
     "name": "stdout",
     "output_type": "stream",
     "text": [
      "Beginning Data Retrieval\n",
      "------------------------\n",
      "Processing record 1 of set 1 | haines junction\n",
      "Processing record 2 of set 1 | guerrero negro\n",
      "Processing record 3 of set 1 | punta arenas\n",
      "Processing record 4 of set 1 | atuona\n",
      "Processing record 5 of set 1 | georgetown\n",
      "Processing record 6 of set 1 | torbay\n",
      "Processing record 7 of set 1 | waltershausen\n",
      "Processing record 8 of set 1 | ilulissat\n",
      "Processing record 9 of set 1 | kapaa\n",
      "Processing record 10 of set 1 | samalaeulu\n",
      "City not found! Skipping...\n",
      "Processing record 11 of set 1 | carnarvon\n",
      "Processing record 12 of set 1 | cabadiangan\n",
      "Processing record 13 of set 1 | esperance\n",
      "Processing record 14 of set 1 | evensk\n",
      "Processing record 15 of set 1 | sovetskaya gavan\n",
      "Processing record 16 of set 1 | faanui\n",
      "Processing record 17 of set 1 | ahipara\n",
      "Processing record 18 of set 1 | port alfred\n",
      "Processing record 19 of set 1 | wulanhaote\n",
      "City not found! Skipping...\n",
      "Processing record 20 of set 1 | namibe\n",
      "Processing record 21 of set 1 | rikitea\n",
      "Processing record 22 of set 1 | ballina\n",
      "Processing record 23 of set 1 | saint-denis\n",
      "Processing record 24 of set 1 | albany\n",
      "Processing record 25 of set 1 | hobart\n",
      "Processing record 26 of set 1 | lalomanu\n",
      "City not found! Skipping...\n",
      "Processing record 27 of set 1 | mys shmidta\n",
      "City not found! Skipping...\n",
      "Processing record 28 of set 1 | ponta do sol\n",
      "Processing record 29 of set 1 | vaini\n",
      "Processing record 30 of set 1 | avarua\n",
      "Processing record 31 of set 1 | klaksvik\n",
      "Processing record 32 of set 1 | yellowknife\n",
      "Processing record 33 of set 1 | saskylakh\n",
      "Processing record 34 of set 1 | ushuaia\n",
      "Processing record 35 of set 1 | ubatuba\n",
      "Processing record 36 of set 1 | vaitupu\n",
      "City not found! Skipping...\n",
      "Processing record 37 of set 1 | tateyama\n",
      "Processing record 38 of set 1 | puerto ayora\n",
      "Processing record 39 of set 1 | touros\n",
      "Processing record 40 of set 1 | karpinsk\n",
      "Processing record 41 of set 1 | waipawa\n",
      "Processing record 42 of set 1 | sawtell\n",
      "Processing record 43 of set 1 | halalo\n",
      "City not found! Skipping...\n",
      "Processing record 44 of set 1 | bluff\n",
      "Processing record 45 of set 1 | quatre cocos\n",
      "Processing record 46 of set 1 | kodiak\n",
      "Processing record 47 of set 1 | mataura\n",
      "Processing record 48 of set 1 | portland\n",
      "Processing record 49 of set 1 | pacific grove\n",
      "Processing record 50 of set 1 | jiwani\n",
      "Processing record 0 of set 2 | bredasdorp\n",
      "Processing record 1 of set 2 | aktash\n",
      "Processing record 2 of set 2 | avera\n",
      "Processing record 3 of set 2 | illoqqortoormiut\n",
      "City not found! Skipping...\n",
      "Processing record 4 of set 2 | busselton\n",
      "Processing record 5 of set 2 | leningradskiy\n",
      "Processing record 6 of set 2 | bengkulu\n",
      "Processing record 7 of set 2 | bethel\n",
      "Processing record 8 of set 2 | laguna\n",
      "Processing record 9 of set 2 | sao joao da barra\n",
      "Processing record 10 of set 2 | tuatapere\n",
      "Processing record 11 of set 2 | lasa\n",
      "Processing record 12 of set 2 | cabo san lucas\n",
      "Processing record 13 of set 2 | hasaki\n",
      "Processing record 14 of set 2 | cape town\n",
      "Processing record 15 of set 2 | codrington\n",
      "Processing record 16 of set 2 | astoria\n",
      "Processing record 17 of set 2 | jamestown\n",
      "Processing record 18 of set 2 | kikwit\n",
      "Processing record 19 of set 2 | nueva helvecia\n",
      "Processing record 20 of set 2 | tuktoyaktuk\n",
      "Processing record 21 of set 2 | qaanaaq\n",
      "Processing record 22 of set 2 | saint george\n",
      "Processing record 23 of set 2 | korla\n",
      "Processing record 24 of set 2 | pimenta bueno\n",
      "Processing record 25 of set 2 | galle\n",
      "Processing record 26 of set 2 | calvinia\n",
      "Processing record 27 of set 2 | kalanguy\n",
      "Processing record 28 of set 2 | nizhneyansk\n",
      "City not found! Skipping...\n",
      "Processing record 29 of set 2 | anzhero-sudzhensk\n",
      "Processing record 30 of set 2 | petropavlovsk-kamchatskiy\n",
      "Processing record 31 of set 2 | satitoa\n",
      "City not found! Skipping...\n",
      "Processing record 32 of set 2 | amderma\n",
      "City not found! Skipping...\n",
      "Processing record 33 of set 2 | hermanus\n",
      "Processing record 34 of set 2 | stornoway\n",
      "Processing record 35 of set 2 | naron\n",
      "Processing record 36 of set 2 | temaraia\n",
      "City not found! Skipping...\n",
      "Processing record 37 of set 2 | cherskiy\n",
      "Processing record 38 of set 2 | ishigaki\n",
      "Processing record 39 of set 2 | beringovskiy\n",
      "Processing record 40 of set 2 | tiksi\n",
      "Processing record 41 of set 2 | adrar\n",
      "Processing record 42 of set 2 | vestmannaeyjar\n",
      "Processing record 43 of set 2 | arraial do cabo\n",
      "Processing record 44 of set 2 | merauke\n",
      "Processing record 45 of set 2 | ribeira grande\n",
      "Processing record 46 of set 2 | thompson\n",
      "Processing record 47 of set 2 | saint-philippe\n",
      "Processing record 48 of set 2 | gorontalo\n",
      "Processing record 49 of set 2 | tsihombe\n",
      "City not found! Skipping...\n",
      "Processing record 50 of set 2 | yakeshi\n",
      "Processing record 0 of set 3 | lovozero\n",
      "Processing record 1 of set 3 | nikolskoye\n",
      "Processing record 2 of set 3 | jiddah\n",
      "City not found! Skipping...\n",
      "Processing record 3 of set 3 | norfolk\n",
      "Processing record 4 of set 3 | norman wells\n",
      "Processing record 5 of set 3 | solsvik\n",
      "City not found! Skipping...\n",
      "Processing record 6 of set 3 | zaraza\n",
      "Processing record 7 of set 3 | fairbanks\n",
      "Processing record 8 of set 3 | hakui\n",
      "Processing record 9 of set 3 | mareeba\n",
      "Processing record 10 of set 3 | flinders\n",
      "Processing record 11 of set 3 | ola\n",
      "Processing record 12 of set 3 | taolanaro\n",
      "City not found! Skipping...\n",
      "Processing record 13 of set 3 | hobyo\n",
      "Processing record 14 of set 3 | clyde river\n",
      "Processing record 15 of set 3 | werda\n",
      "Processing record 16 of set 3 | praxedis guerrero\n",
      "Processing record 17 of set 3 | provideniya\n",
      "Processing record 18 of set 3 | sibu\n",
      "Processing record 19 of set 3 | formoso do araguaia\n",
      "City not found! Skipping...\n",
      "Processing record 20 of set 3 | severo-kurilsk\n",
      "Processing record 21 of set 3 | mahebourg\n",
      "Processing record 22 of set 3 | duma\n",
      "Processing record 23 of set 3 | okhotsk\n",
      "Processing record 24 of set 3 | sanandaj\n",
      "Processing record 25 of set 3 | nome\n",
      "Processing record 26 of set 3 | khatanga\n",
      "Processing record 27 of set 3 | camopi\n",
      "Processing record 28 of set 3 | airai\n",
      "Processing record 29 of set 3 | kijang\n",
      "Processing record 30 of set 3 | balkhash\n",
      "Processing record 31 of set 3 | dikson\n",
      "Processing record 32 of set 3 | tabiauea\n",
      "City not found! Skipping...\n",
      "Processing record 33 of set 3 | asyut\n",
      "Processing record 34 of set 3 | new norfolk\n",
      "Processing record 35 of set 3 | bam\n",
      "Processing record 36 of set 3 | saldanha\n",
      "Processing record 37 of set 3 | cidreira\n",
      "Processing record 38 of set 3 | katsuura\n",
      "Processing record 39 of set 3 | quatis\n",
      "Processing record 40 of set 3 | rio grande\n",
      "Processing record 41 of set 3 | longyearbyen\n",
      "Processing record 42 of set 3 | valleyview\n",
      "Processing record 43 of set 3 | newberry\n",
      "Processing record 44 of set 3 | dutse\n",
      "Processing record 45 of set 3 | hilo\n",
      "Processing record 46 of set 3 | lavrentiya\n",
      "Processing record 47 of set 3 | kholm\n",
      "Processing record 48 of set 3 | tasiilaq\n",
      "Processing record 49 of set 3 | hambantota\n",
      "Processing record 50 of set 3 | bandarbeyla\n",
      "Processing record 0 of set 4 | ulladulla\n",
      "Processing record 1 of set 4 | gwadar\n",
      "Processing record 2 of set 4 | porto novo\n",
      "Processing record 3 of set 4 | karata\n",
      "Processing record 4 of set 4 | bambous virieux\n",
      "Processing record 5 of set 4 | ayr\n",
      "Processing record 6 of set 4 | nizhneudinsk\n",
      "Processing record 7 of set 4 | el alto\n",
      "Processing record 8 of set 4 | sept-iles\n",
      "Processing record 9 of set 4 | baixo guandu\n",
      "Processing record 10 of set 4 | upernavik\n",
      "Processing record 11 of set 4 | takoradi\n",
      "Processing record 12 of set 4 | antofagasta\n",
      "Processing record 13 of set 4 | santee\n",
      "Processing record 14 of set 4 | dali\n",
      "Processing record 15 of set 4 | palana\n",
      "Processing record 16 of set 4 | shar\n",
      "Processing record 17 of set 4 | chulym\n",
      "Processing record 18 of set 4 | coffs harbour\n",
      "Processing record 19 of set 4 | muros\n",
      "Processing record 20 of set 4 | constitucion\n",
      "Processing record 21 of set 4 | tarakan\n",
      "Processing record 22 of set 4 | mormugao\n",
      "Processing record 23 of set 4 | sur\n",
      "Processing record 24 of set 4 | barrow\n",
      "Processing record 25 of set 4 | grindavik\n",
      "Processing record 26 of set 4 | nanortalik\n",
      "Processing record 27 of set 4 | mbini\n",
      "Processing record 28 of set 4 | sturgis\n",
      "Processing record 29 of set 4 | geraldton\n",
      "Processing record 30 of set 4 | kahului\n",
      "Processing record 31 of set 4 | narva-joesuu\n",
      "Processing record 32 of set 4 | port elizabeth\n",
      "Processing record 33 of set 4 | yulara\n",
      "Processing record 34 of set 4 | berlevag\n",
      "Processing record 35 of set 4 | santo antonio do monte\n",
      "Processing record 36 of set 4 | sabang\n",
      "Processing record 37 of set 4 | fort nelson\n",
      "Processing record 38 of set 4 | chuy\n",
      "Processing record 39 of set 4 | wanganui\n",
      "Processing record 40 of set 4 | carballo\n",
      "Processing record 41 of set 4 | zharkent\n",
      "Processing record 42 of set 4 | sena madureira\n",
      "Processing record 43 of set 4 | puerto escondido\n",
      "Processing record 44 of set 4 | lagoa\n",
      "Processing record 45 of set 4 | butaritari\n",
      "Processing record 46 of set 4 | acapulco\n",
      "Processing record 47 of set 4 | mogadishu\n",
      "Processing record 48 of set 4 | grand river south east\n",
      "City not found! Skipping...\n",
      "Processing record 49 of set 4 | iqaluit\n",
      "Processing record 50 of set 4 | chapais\n",
      "Processing record 0 of set 5 | ojinaga\n",
      "Processing record 1 of set 5 | mmabatho\n",
      "Processing record 2 of set 5 | mar del plata\n",
      "Processing record 3 of set 5 | biak\n",
      "Processing record 4 of set 5 | pyapon\n",
      "Processing record 5 of set 5 | pyaozerskiy\n",
      "Processing record 6 of set 5 | kulhudhuffushi\n",
      "Processing record 7 of set 5 | umm durman\n",
      "City not found! Skipping...\n",
      "Processing record 8 of set 5 | kilindoni\n",
      "Processing record 9 of set 5 | quang ngai\n",
      "Processing record 10 of set 5 | scottsburgh\n",
      "City not found! Skipping...\n",
      "Processing record 11 of set 5 | lolua\n",
      "City not found! Skipping...\n",
      "Processing record 12 of set 5 | pisco\n",
      "Processing record 13 of set 5 | victor harbor\n",
      "Processing record 14 of set 5 | warqla\n",
      "City not found! Skipping...\n",
      "Processing record 15 of set 5 | pomabamba\n",
      "Processing record 16 of set 5 | albion\n",
      "Processing record 17 of set 5 | luderitz\n",
      "Processing record 18 of set 5 | valparaiso\n",
      "Processing record 19 of set 5 | tupelo\n",
      "Processing record 20 of set 5 | okmulgee\n",
      "Processing record 21 of set 5 | kruisfontein\n",
      "Processing record 22 of set 5 | phalombe\n",
      "Processing record 23 of set 5 | dudinka\n",
      "Processing record 24 of set 5 | port antonio\n",
      "Processing record 25 of set 5 | arys\n",
      "Processing record 26 of set 5 | jicin\n",
      "Processing record 27 of set 5 | copiapo\n",
      "Processing record 28 of set 5 | vanimo\n",
      "Processing record 29 of set 5 | umzimvubu\n",
      "City not found! Skipping...\n",
      "Processing record 30 of set 5 | havoysund\n",
      "Processing record 31 of set 5 | brownsville\n",
      "Processing record 32 of set 5 | tazovskiy\n",
      "Processing record 33 of set 5 | kaduqli\n",
      "Processing record 34 of set 5 | nabire\n",
      "Processing record 35 of set 5 | stromness\n",
      "Processing record 36 of set 5 | lagunas\n",
      "Processing record 37 of set 5 | mahalapye\n",
      "Processing record 38 of set 5 | moron\n",
      "Processing record 39 of set 5 | mo i rana\n",
      "Processing record 40 of set 5 | camana\n",
      "Processing record 41 of set 5 | mount darwin\n",
      "Processing record 42 of set 5 | marsaxlokk\n",
      "Processing record 43 of set 5 | beloha\n",
      "Processing record 44 of set 5 | hithadhoo\n",
      "Processing record 45 of set 5 | mana\n",
      "Processing record 46 of set 5 | broome\n",
      "Processing record 47 of set 5 | kizema\n",
      "Processing record 48 of set 5 | srednekolymsk\n",
      "Processing record 49 of set 5 | meyungs\n",
      "City not found! Skipping...\n",
      "Processing record 50 of set 5 | toamasina\n",
      "Processing record 0 of set 6 | melito di porto salvo\n",
      "Processing record 1 of set 6 | half moon bay\n",
      "Processing record 2 of set 6 | mazagao\n",
      "Processing record 3 of set 6 | abu samrah\n",
      "Processing record 4 of set 6 | ajdabiya\n",
      "Processing record 5 of set 6 | bajo baudo\n",
      "City not found! Skipping...\n",
      "Processing record 6 of set 6 | kenai\n",
      "Processing record 7 of set 6 | canto do buriti\n",
      "Processing record 8 of set 6 | margarita\n",
      "Processing record 9 of set 6 | ergani\n",
      "Processing record 10 of set 6 | progreso\n",
      "Processing record 11 of set 6 | bubaque\n",
      "Processing record 12 of set 6 | rudnichnyy\n",
      "Processing record 13 of set 6 | cayenne\n",
      "Processing record 14 of set 6 | mitsamiouli\n",
      "Processing record 15 of set 6 | lebu\n",
      "Processing record 16 of set 6 | pilot butte\n",
      "Processing record 17 of set 6 | nsanje\n",
      "Processing record 18 of set 6 | tekkali\n",
      "Processing record 19 of set 6 | teguldet\n",
      "Processing record 20 of set 6 | acarau\n",
      "Processing record 21 of set 6 | cassilandia\n",
      "Processing record 22 of set 6 | sataua\n",
      "City not found! Skipping...\n",
      "Processing record 23 of set 6 | felidhoo\n",
      "City not found! Skipping...\n",
      "Processing record 24 of set 6 | tumannyy\n",
      "City not found! Skipping...\n",
      "Processing record 25 of set 6 | victoria\n",
      "Processing record 26 of set 6 | souillac\n",
      "Processing record 27 of set 6 | yomitan\n",
      "City not found! Skipping...\n",
      "Processing record 28 of set 6 | talnakh\n",
      "Processing record 29 of set 6 | mataram\n",
      "Processing record 30 of set 6 | zabol\n",
      "Processing record 31 of set 6 | kysyl-syr\n",
      "Processing record 32 of set 6 | san cristobal\n",
      "Processing record 33 of set 6 | catamarca\n",
      "Processing record 34 of set 6 | dingle\n",
      "Processing record 35 of set 6 | naze\n",
      "Processing record 36 of set 6 | leninskoye\n",
      "Processing record 37 of set 6 | aklavik\n",
      "Processing record 38 of set 6 | impfondo\n",
      "Processing record 39 of set 6 | bud\n",
      "Processing record 40 of set 6 | appleton\n",
      "Processing record 41 of set 6 | semirom\n",
      "Processing record 42 of set 6 | kavieng\n",
      "Processing record 43 of set 6 | itum-kale\n",
      "Processing record 44 of set 6 | saint-francois\n",
      "Processing record 45 of set 6 | college\n",
      "Processing record 46 of set 6 | sola\n",
      "Processing record 47 of set 6 | cascas\n",
      "Processing record 48 of set 6 | svay rieng\n",
      "Processing record 49 of set 6 | bilibino\n",
      "Processing record 50 of set 6 | matagami\n",
      "Processing record 0 of set 7 | svetlogorsk\n",
      "Processing record 1 of set 7 | tual\n",
      "Processing record 2 of set 7 | djenne\n",
      "Processing record 3 of set 7 | chokurdakh\n",
      "Processing record 4 of set 7 | mount gambier\n",
      "Processing record 5 of set 7 | qaqortoq\n",
      "Processing record 6 of set 7 | hirara\n",
      "Processing record 7 of set 7 | sao filipe\n",
      "Processing record 8 of set 7 | san quintin\n",
      "Processing record 9 of set 7 | mayo\n",
      "Processing record 10 of set 7 | fare\n",
      "Processing record 11 of set 7 | komsomolskiy\n",
      "Processing record 12 of set 7 | mut\n",
      "Processing record 13 of set 7 | sherbakul\n",
      "Processing record 14 of set 7 | pimentel\n",
      "Processing record 15 of set 7 | pasni\n",
      "Processing record 16 of set 7 | caborca\n",
      "Processing record 17 of set 7 | barillas\n",
      "Processing record 18 of set 7 | wanaka\n",
      "Processing record 19 of set 7 | barentsburg\n",
      "City not found! Skipping...\n",
      "Processing record 20 of set 7 | rawson\n",
      "Processing record 21 of set 7 | bay city\n",
      "Processing record 22 of set 7 | bayangol\n",
      "Processing record 23 of set 7 | lompoc\n",
      "Processing record 24 of set 7 | totness\n",
      "Processing record 25 of set 7 | muisne\n",
      "Processing record 26 of set 7 | pevek\n",
      "Processing record 27 of set 7 | esna\n",
      "Processing record 28 of set 7 | taksimo\n",
      "Processing record 29 of set 7 | praia da vitoria\n",
      "Processing record 30 of set 7 | kem\n",
      "Processing record 31 of set 7 | coahuayana\n",
      "Processing record 32 of set 7 | birao\n",
      "Processing record 33 of set 7 | ada\n",
      "Processing record 34 of set 7 | dovolnoye\n",
      "Processing record 35 of set 7 | honningsvag\n",
      "Processing record 36 of set 7 | kirensk\n",
      "Processing record 37 of set 7 | necochea\n",
      "Processing record 38 of set 7 | comodoro rivadavia\n",
      "Processing record 39 of set 7 | belushya guba\n",
      "City not found! Skipping...\n",
      "Processing record 40 of set 7 | skibotn\n",
      "Processing record 41 of set 7 | port lincoln\n",
      "Processing record 42 of set 7 | kiunga\n",
      "Processing record 43 of set 7 | drummondville\n",
      "Processing record 44 of set 7 | kerema\n",
      "Processing record 45 of set 7 | mogzon\n",
      "Processing record 46 of set 7 | taoudenni\n",
      "Processing record 47 of set 7 | coquimbo\n",
      "Processing record 48 of set 7 | senneterre\n",
      "Processing record 49 of set 7 | tabou\n",
      "Processing record 50 of set 7 | kasempa\n",
      "Processing record 0 of set 8 | santa engracia\n",
      "Processing record 1 of set 8 | amanganj\n",
      "Processing record 2 of set 8 | san pedro\n",
      "Processing record 3 of set 8 | salalah\n",
      "Processing record 4 of set 8 | carrick-on-suir\n",
      "Processing record 5 of set 8 | kaitangata\n",
      "Processing record 6 of set 8 | calamar\n",
      "Processing record 7 of set 8 | pangnirtung\n",
      "Processing record 8 of set 8 | sao gabriel da cachoeira\n",
      "Processing record 9 of set 8 | petaluma\n",
      "Processing record 10 of set 8 | sinkat\n",
      "City not found! Skipping...\n",
      "Processing record 11 of set 8 | ayagoz\n",
      "Processing record 12 of set 8 | cam ranh\n",
      "Processing record 13 of set 8 | nyurba\n",
      "Processing record 14 of set 8 | warrnambool\n",
      "Processing record 15 of set 8 | bolungarvik\n",
      "City not found! Skipping...\n",
      "Processing record 16 of set 8 | grenada\n",
      "Processing record 17 of set 8 | burica\n",
      "City not found! Skipping...\n",
      "Processing record 18 of set 8 | compostela\n",
      "Processing record 19 of set 8 | camocim\n",
      "Processing record 20 of set 8 | aitape\n",
      "Processing record 21 of set 8 | pameungpeuk\n",
      "Processing record 22 of set 8 | chiredzi\n",
      "Processing record 23 of set 8 | dawson creek\n",
      "Processing record 24 of set 8 | mrakovo\n",
      "Processing record 25 of set 8 | bereda\n",
      "Processing record 26 of set 8 | port hawkesbury\n",
      "Processing record 27 of set 8 | nova serrana\n",
      "Processing record 28 of set 8 | boguchany\n",
      "Processing record 29 of set 8 | alofi\n",
      "Processing record 30 of set 8 | dunedin\n",
      "Processing record 31 of set 8 | conde\n",
      "Processing record 32 of set 8 | ganzhou\n",
      "Processing record 33 of set 8 | hastings\n",
      "Processing record 34 of set 8 | castro\n",
      "Processing record 35 of set 8 | turayf\n",
      "Processing record 36 of set 8 | palmer\n",
      "Processing record 37 of set 8 | bad rappenau\n",
      "Processing record 38 of set 8 | veinticinco de diciembre\n",
      "Processing record 39 of set 8 | weiser\n",
      "Processing record 40 of set 8 | olga\n",
      "Processing record 41 of set 8 | willowmore\n",
      "Processing record 42 of set 8 | hofn\n",
      "Processing record 43 of set 8 | hami\n",
      "Processing record 44 of set 8 | sitka\n",
      "Processing record 45 of set 8 | comrie\n",
      "Processing record 46 of set 8 | am timan\n",
      "Processing record 47 of set 8 | eganville\n",
      "Processing record 48 of set 8 | inhambane\n",
      "Processing record 49 of set 8 | ngukurr\n",
      "City not found! Skipping...\n",
      "Processing record 50 of set 8 | bafilo\n",
      "Processing record 0 of set 9 | eyl\n",
      "Processing record 1 of set 9 | vila\n",
      "Processing record 2 of set 9 | sorland\n",
      "Processing record 3 of set 9 | doka\n",
      "Processing record 4 of set 9 | narsaq\n",
      "Processing record 5 of set 9 | antropovo\n",
      "Processing record 6 of set 9 | belmonte\n",
      "Processing record 7 of set 9 | doctor pedro p. pena\n",
      "City not found! Skipping...\n",
      "Processing record 8 of set 9 | chernyshevskiy\n",
      "Processing record 9 of set 9 | cabedelo\n",
      "Processing record 10 of set 9 | toliary\n",
      "City not found! Skipping...\n",
      "Processing record 11 of set 9 | malwan\n",
      "City not found! Skipping...\n",
      "Processing record 12 of set 9 | sentyabrskiy\n",
      "City not found! Skipping...\n",
      "Processing record 13 of set 9 | anton\n",
      "Processing record 14 of set 9 | palabuhanratu\n",
      "City not found! Skipping...\n",
      "Processing record 15 of set 9 | paamiut\n",
      "Processing record 16 of set 9 | rio gallegos\n",
      "Processing record 17 of set 9 | naftah\n",
      "City not found! Skipping...\n",
      "Processing record 18 of set 9 | viytivka\n",
      "Processing record 19 of set 9 | bayir\n",
      "Processing record 20 of set 9 | dongkan\n",
      "Processing record 21 of set 9 | topchikha\n",
      "Processing record 22 of set 9 | manokwari\n",
      "Processing record 23 of set 9 | port blair\n",
      "Processing record 24 of set 9 | nanakuli\n",
      "Processing record 25 of set 9 | viedma\n",
      "Processing record 26 of set 9 | fortuna\n",
      "Processing record 27 of set 9 | east london\n",
      "Processing record 28 of set 9 | pizarro\n",
      "Processing record 29 of set 9 | piacabucu\n",
      "Processing record 30 of set 9 | nioki\n",
      "Processing record 31 of set 9 | caldwell\n",
      "Processing record 32 of set 9 | sarahan\n",
      "Processing record 33 of set 9 | upington\n",
      "Processing record 34 of set 9 | princeton\n",
      "Processing record 35 of set 9 | huangchuan\n",
      "Processing record 36 of set 9 | yatou\n",
      "Processing record 37 of set 9 | belaya gora\n",
      "Processing record 38 of set 9 | brusyanskiy\n",
      "Processing record 39 of set 9 | bulgan\n",
      "Processing record 40 of set 9 | kristiinankaupunki\n",
      "Processing record 41 of set 9 | attawapiskat\n",
      "City not found! Skipping...\n",
      "Processing record 42 of set 9 | sosnovo-ozerskoye\n",
      "Processing record 43 of set 9 | safwah\n",
      "City not found! Skipping...\n",
      "Processing record 44 of set 9 | basco\n",
      "Processing record 45 of set 9 | leh\n",
      "Processing record 46 of set 9 | san patricio\n",
      "Processing record 47 of set 9 | dayong\n",
      "Processing record 48 of set 9 | monrovia\n",
      "Processing record 49 of set 9 | aflu\n",
      "City not found! Skipping...\n",
      "Processing record 50 of set 9 | gamba\n",
      "Processing record 0 of set 10 | sovetskiy\n",
      "Processing record 1 of set 10 | riaba\n",
      "City not found! Skipping...\n",
      "Processing record 2 of set 10 | charlestown\n",
      "Processing record 3 of set 10 | uk\n",
      "City not found! Skipping...\n",
      "Processing record 4 of set 10 | zyryanka\n",
      "Processing record 5 of set 10 | mursalimkino\n",
      "Processing record 6 of set 10 | karamay\n",
      "City not found! Skipping...\n",
      "Processing record 7 of set 10 | walvis bay\n",
      "Processing record 8 of set 10 | kurilsk\n",
      "Processing record 9 of set 10 | kavaratti\n",
      "Processing record 10 of set 10 | kentau\n",
      "Processing record 11 of set 10 | hovd\n",
      "Processing record 12 of set 10 | ambon\n",
      "Processing record 13 of set 10 | pathein\n",
      "Processing record 14 of set 10 | saleaula\n",
      "City not found! Skipping...\n",
      "Processing record 15 of set 10 | belyy yar\n",
      "Processing record 16 of set 10 | kieta\n",
      "Processing record 17 of set 10 | male\n",
      "Processing record 18 of set 10 | coihaique\n",
      "Processing record 19 of set 10 | olafsvik\n",
      "Processing record 20 of set 10 | kununurra\n",
      "Processing record 21 of set 10 | samusu\n",
      "City not found! Skipping...\n",
      "Processing record 22 of set 10 | harper\n",
      "Processing record 23 of set 10 | larvik\n",
      "Processing record 24 of set 10 | san antonio\n",
      "Processing record 25 of set 10 | sarakhs\n",
      "Processing record 26 of set 10 | isangel\n",
      "Processing record 27 of set 10 | ahuimanu\n",
      "Processing record 28 of set 10 | sharlyk\n",
      "Processing record 29 of set 10 | dwarka\n",
      "Processing record 30 of set 10 | westpunt\n",
      "City not found! Skipping...\n",
      "Processing record 31 of set 10 | charters towers\n",
      "Processing record 32 of set 10 | dhidhdhoo\n",
      "Processing record 33 of set 10 | west wendover\n",
      "Processing record 34 of set 10 | vaitape\n",
      "Processing record 35 of set 10 | codajas\n",
      "Processing record 36 of set 10 | grayvoron\n",
      "Processing record 37 of set 10 | bathsheba\n",
      "Processing record 38 of set 10 | morondava\n",
      "Processing record 39 of set 10 | ushtobe\n",
      "Processing record 40 of set 10 | mattawa\n",
      "Processing record 41 of set 10 | dzilam gonzalez\n",
      "Processing record 42 of set 10 | rodrigues alves\n",
      "Processing record 43 of set 10 | coron\n",
      "Processing record 44 of set 10 | itarema\n",
      "Processing record 45 of set 10 | gizo\n",
      "Processing record 46 of set 10 | mandan\n",
      "Processing record 47 of set 10 | rudnaya pristan\n",
      "Processing record 48 of set 10 | lima\n",
      "Processing record 49 of set 10 | kawalu\n",
      "Processing record 50 of set 10 | slave lake\n",
      "Processing record 0 of set 11 | bonavista\n",
      "Processing record 1 of set 11 | ndele\n",
      "Processing record 2 of set 11 | fort wellington\n",
      "Processing record 3 of set 11 | helmsdale\n",
      "Processing record 4 of set 11 | manoel urbano\n",
      "Processing record 5 of set 11 | yen bai\n",
      "Processing record 6 of set 11 | cururupu\n",
      "Processing record 7 of set 11 | arequipa\n",
      "Processing record 8 of set 11 | ileza\n",
      "Processing record 9 of set 11 | zilair\n",
      "Processing record 10 of set 11 | tongling\n",
      "Processing record 11 of set 11 | honghu\n",
      "Processing record 12 of set 11 | vardo\n",
      "Processing record 13 of set 11 | skelleftea\n",
      "Processing record 14 of set 11 | krasnoselkup\n",
      "Processing record 15 of set 11 | chaman\n",
      "Processing record 16 of set 11 | torres\n",
      "Processing record 17 of set 11 | shekhupura\n",
      "Processing record 18 of set 11 | bur gabo\n",
      "City not found! Skipping...\n",
      "Processing record 19 of set 11 | boysun\n",
      "Processing record 20 of set 11 | saint-augustin\n",
      "Processing record 21 of set 11 | jumla\n",
      "Processing record 22 of set 11 | litoral del san juan\n",
      "City not found! Skipping...\n",
      "Processing record 23 of set 11 | bembibre\n",
      "Processing record 24 of set 11 | salinopolis\n",
      "Processing record 25 of set 11 | alta floresta\n",
      "Processing record 26 of set 11 | tiznit\n",
      "Processing record 27 of set 11 | aden\n",
      "Processing record 28 of set 11 | oranjemund\n",
      "Processing record 29 of set 11 | tanout\n",
      "Processing record 30 of set 11 | edson\n",
      "Processing record 31 of set 11 | sinegorye\n",
      "Processing record 32 of set 11 | dawei\n",
      "Processing record 33 of set 11 | niamey\n",
      "Processing record 34 of set 11 | murliganj\n",
      "Processing record 35 of set 11 | naryan-mar\n",
      "Processing record 36 of set 11 | vao\n",
      "Processing record 37 of set 11 | broken hill\n",
      "Processing record 38 of set 11 | odessa\n",
      "Processing record 39 of set 11 | skagastrond\n",
      "City not found! Skipping...\n",
      "Processing record 40 of set 11 | qobustan\n",
      "Processing record 41 of set 11 | pecos\n",
      "Processing record 42 of set 11 | morro bay\n",
      "Processing record 43 of set 11 | dalaba\n",
      "Processing record 44 of set 11 | ichhawar\n",
      "Processing record 45 of set 11 | shakawe\n",
      "Processing record 46 of set 11 | saint-joseph\n",
      "Processing record 47 of set 11 | castro verde\n",
      "Processing record 48 of set 11 | ust-kamchatsk\n",
      "City not found! Skipping...\n",
      "Processing record 49 of set 11 | kapoeta\n",
      "Processing record 50 of set 11 | indiaroba\n",
      "Processing record 0 of set 12 | taltal\n",
      "Processing record 1 of set 12 | madhoganj\n",
      "Processing record 2 of set 12 | vangaindrano\n",
      "Processing record 3 of set 12 | opuwo\n",
      "Processing record 4 of set 12 | calama\n",
      "Processing record 5 of set 12 | sabha\n",
      "Processing record 6 of set 12 | zachepylivka\n",
      "Processing record 7 of set 12 | houston\n",
      "Processing record 8 of set 12 | nouadhibou\n",
      "Processing record 9 of set 12 | marzuq\n",
      "Processing record 10 of set 12 | la orilla\n",
      "Processing record 11 of set 12 | brigantine\n",
      "Processing record 12 of set 12 | porto nacional\n",
      "Processing record 13 of set 12 | lillooet\n",
      "Processing record 14 of set 12 | lunenburg\n",
      "Processing record 15 of set 12 | karasjok\n",
      "Processing record 16 of set 12 | wanning\n",
      "Processing record 17 of set 12 | kamaishi\n",
      "Processing record 18 of set 12 | kuryk\n",
      "Processing record 19 of set 12 | labuhan\n",
      "Processing record 20 of set 12 | wankaner\n",
      "Processing record 21 of set 12 | orlik\n",
      "Processing record 22 of set 12 | ternate\n",
      "Processing record 23 of set 12 | bingol\n",
      "Processing record 24 of set 12 | linares\n",
      "Processing record 25 of set 12 | ambulu\n",
      "Processing record 26 of set 12 | utiroa\n",
      "City not found! Skipping...\n",
      "Processing record 27 of set 12 | mount abu\n",
      "Processing record 28 of set 12 | asau\n",
      "Processing record 29 of set 12 | minsk\n",
      "Processing record 30 of set 12 | mokhsogollokh\n",
      "Processing record 31 of set 12 | zemio\n",
      "Processing record 32 of set 12 | boddam\n",
      "Processing record 33 of set 12 | shirokiy\n",
      "Processing record 34 of set 12 | lata\n",
      "Processing record 35 of set 12 | ciudad bolivar\n",
      "Processing record 36 of set 12 | otjimbingwe\n",
      "Processing record 37 of set 12 | mehamn\n",
      "Processing record 38 of set 12 | desert hot springs\n",
      "Processing record 39 of set 12 | ewa beach\n",
      "Processing record 40 of set 12 | innisfail\n",
      "Processing record 41 of set 12 | ulaanbaatar\n",
      "Processing record 42 of set 12 | miri\n",
      "Processing record 43 of set 12 | kovdor\n",
      "Processing record 44 of set 12 | pareora\n",
      "Processing record 45 of set 12 | koslan\n",
      "Processing record 46 of set 12 | poum\n",
      "Processing record 47 of set 12 | turbat\n",
      "Processing record 48 of set 12 | sulangan\n",
      "Processing record 49 of set 12 | varzea da palma\n",
      "Processing record 50 of set 12 | coxim\n",
      "Processing record 0 of set 13 | antalaha\n",
      "Processing record 1 of set 13 | jalu\n",
      "Processing record 2 of set 13 | verkhnyaya toyma\n",
      "Processing record 3 of set 13 | sweetwater\n",
      "Processing record 4 of set 13 | santa cruz de tenerife\n",
      "Processing record 5 of set 13 | dabhol\n",
      "Processing record 6 of set 13 | havre-saint-pierre\n",
      "-------------------------\n",
      "Data Retrieval Complete\n",
      "-------------------------\n"
     ]
    }
   ],
   "source": [
    "#Create lists to hold the info that I ask\n",
    "new_cities = []\n",
    "cloudiness = []\n",
    "country = []\n",
    "date = []\n",
    "humidity = []\n",
    "temp = []\n",
    "lat = []\n",
    "lng = []\n",
    "wind = []\n",
    "\n",
    "\n",
    "counter = 0\n",
    "set_counter = 1\n",
    "# Starting URL for Weather Map API Call\n",
    "url = \"http://api.openweathermap.org/data/2.5/weather?\"\n",
    "units = \"metric\"\n",
    "query_url = f\"{url}appid={weather_api_key}&units={units}&q=\"\n",
    "\n",
    "\n",
    "print('Beginning Data Retrieval')\n",
    "print('------------------------')\n",
    "\n",
    "for city in cities:\n",
    " \n",
    "    if counter < 50:\n",
    "        counter += 1\n",
    "    else:\n",
    "        set_counter += 1\n",
    "        counter = 0\n",
    "\n",
    "    print(f'Processing record {counter} of set {set_counter} | {city}')\n",
    "    \n",
    "    try:\n",
    "        response = requests.get(query_url + city).json()\n",
    "        cloudiness.append(response['clouds']['all'])\n",
    "        country.append(response['sys']['country'])\n",
    "        date.append(response['dt'])\n",
    "        humidity.append(response['main']['humidity'])\n",
    "        temp.append(response['main']['temp_max'])\n",
    "        lat.append(response['coord']['lat'])\n",
    "        lng.append(response['coord']['lon'])\n",
    "        wind.append(response['wind']['speed']) \n",
    "        new_cities.append(city)\n",
    "    except:\n",
    "        print(\"City not found! Skipping...\")\n",
    "        pass\n",
    "\n",
    "print('-------------------------')\n",
    "print('Data Retrieval Complete')\n",
    "print('-------------------------')"
   ]
  },
  {
   "cell_type": "markdown",
   "metadata": {},
   "source": [
    "### Convert Raw Data to DataFrame\n",
    "* Export the city data into a .csv.\n",
    "* Display the DataFrame"
   ]
  },
  {
   "cell_type": "code",
   "execution_count": 5,
   "metadata": {},
   "outputs": [
    {
     "data": {
      "text/plain": [
       "City          563\n",
       "Cloudiness    563\n",
       "Country       563\n",
       "Date          563\n",
       "Humidity      563\n",
       "Temp          563\n",
       "Lat           563\n",
       "Lng           563\n",
       "Wind Speed    563\n",
       "dtype: int64"
      ]
     },
     "execution_count": 5,
     "metadata": {},
     "output_type": "execute_result"
    }
   ],
   "source": [
    "weather_data = pd.DataFrame ({\n",
    "    \"City\":new_cities,\n",
    "    \"Cloudiness\":cloudiness,\n",
    "    \"Country\":country,\n",
    "    \"Date\":date,\n",
    "    \"Humidity\":humidity,\n",
    "    \"Temp\":temp,\n",
    "    \"Lat\":lat,\n",
    "    \"Lng\":lng,   \n",
    "    \"Wind Speed\":wind\n",
    "})\n",
    "weather_data.count()"
   ]
  },
  {
   "cell_type": "code",
   "execution_count": 6,
   "metadata": {},
   "outputs": [
    {
     "data": {
      "text/html": [
       "<div>\n",
       "<style scoped>\n",
       "    .dataframe tbody tr th:only-of-type {\n",
       "        vertical-align: middle;\n",
       "    }\n",
       "\n",
       "    .dataframe tbody tr th {\n",
       "        vertical-align: top;\n",
       "    }\n",
       "\n",
       "    .dataframe thead th {\n",
       "        text-align: right;\n",
       "    }\n",
       "</style>\n",
       "<table border=\"1\" class=\"dataframe\">\n",
       "  <thead>\n",
       "    <tr style=\"text-align: right;\">\n",
       "      <th></th>\n",
       "      <th>City</th>\n",
       "      <th>Cloudiness</th>\n",
       "      <th>Country</th>\n",
       "      <th>Date</th>\n",
       "      <th>Humidity</th>\n",
       "      <th>Temp</th>\n",
       "      <th>Lat</th>\n",
       "      <th>Lng</th>\n",
       "      <th>Wind Speed</th>\n",
       "    </tr>\n",
       "  </thead>\n",
       "  <tbody>\n",
       "    <tr>\n",
       "      <td>0</td>\n",
       "      <td>haines junction</td>\n",
       "      <td>99</td>\n",
       "      <td>CA</td>\n",
       "      <td>1585258769</td>\n",
       "      <td>73</td>\n",
       "      <td>-0.67</td>\n",
       "      <td>60.75</td>\n",
       "      <td>-137.51</td>\n",
       "      <td>2.90</td>\n",
       "    </tr>\n",
       "    <tr>\n",
       "      <td>1</td>\n",
       "      <td>guerrero negro</td>\n",
       "      <td>100</td>\n",
       "      <td>MX</td>\n",
       "      <td>1585258770</td>\n",
       "      <td>59</td>\n",
       "      <td>16.80</td>\n",
       "      <td>27.98</td>\n",
       "      <td>-114.06</td>\n",
       "      <td>10.00</td>\n",
       "    </tr>\n",
       "    <tr>\n",
       "      <td>2</td>\n",
       "      <td>punta arenas</td>\n",
       "      <td>90</td>\n",
       "      <td>CL</td>\n",
       "      <td>1585258719</td>\n",
       "      <td>87</td>\n",
       "      <td>8.00</td>\n",
       "      <td>-53.15</td>\n",
       "      <td>-70.92</td>\n",
       "      <td>8.20</td>\n",
       "    </tr>\n",
       "    <tr>\n",
       "      <td>3</td>\n",
       "      <td>atuona</td>\n",
       "      <td>1</td>\n",
       "      <td>PF</td>\n",
       "      <td>1585258772</td>\n",
       "      <td>74</td>\n",
       "      <td>27.86</td>\n",
       "      <td>-9.80</td>\n",
       "      <td>-139.03</td>\n",
       "      <td>5.61</td>\n",
       "    </tr>\n",
       "    <tr>\n",
       "      <td>4</td>\n",
       "      <td>georgetown</td>\n",
       "      <td>20</td>\n",
       "      <td>MY</td>\n",
       "      <td>1585258755</td>\n",
       "      <td>94</td>\n",
       "      <td>27.00</td>\n",
       "      <td>5.41</td>\n",
       "      <td>100.34</td>\n",
       "      <td>1.00</td>\n",
       "    </tr>\n",
       "  </tbody>\n",
       "</table>\n",
       "</div>"
      ],
      "text/plain": [
       "              City  Cloudiness Country        Date  Humidity   Temp    Lat  \\\n",
       "0  haines junction          99      CA  1585258769        73  -0.67  60.75   \n",
       "1   guerrero negro         100      MX  1585258770        59  16.80  27.98   \n",
       "2     punta arenas          90      CL  1585258719        87   8.00 -53.15   \n",
       "3           atuona           1      PF  1585258772        74  27.86  -9.80   \n",
       "4       georgetown          20      MY  1585258755        94  27.00   5.41   \n",
       "\n",
       "      Lng  Wind Speed  \n",
       "0 -137.51        2.90  \n",
       "1 -114.06       10.00  \n",
       "2  -70.92        8.20  \n",
       "3 -139.03        5.61  \n",
       "4  100.34        1.00  "
      ]
     },
     "execution_count": 6,
     "metadata": {},
     "output_type": "execute_result"
    }
   ],
   "source": [
    "weather_data.head()"
   ]
  },
  {
   "cell_type": "markdown",
   "metadata": {},
   "source": [
    "### Plotting the Data\n",
    "* Use proper labeling of the plots using plot titles (including date of analysis) and axes labels.\n",
    "* Save the plotted figures as .pngs."
   ]
  },
  {
   "cell_type": "markdown",
   "metadata": {},
   "source": [
    "#### Latitude vs. Temperature Plot"
   ]
  },
  {
   "cell_type": "code",
   "execution_count": 7,
   "metadata": {
    "scrolled": true
   },
   "outputs": [
    {
     "data": {
      "image/png": "[encoded data removed]",
      "text/plain": [
       "<Figure size 432x288 with 1 Axes>"
      ]
     },
     "metadata": {
      "needs_background": "light"
     },
     "output_type": "display_data"
    }
   ],
   "source": [
    "plt.scatter(weather_data[\"Lat\"], weather_data[\"Temp\"])\n",
    "plt.grid()\n",
    "plt.title(\"Latitude vs. Temperature \")\n",
    "plt.xlabel('Latitude')\n",
    "plt.ylabel('Temperature')\n",
    "plt.show()"
   ]
  },
  {
   "cell_type": "markdown",
   "metadata": {},
   "source": [
    "#### Latitude vs. Humidity Plot"
   ]
  },
  {
   "cell_type": "code",
   "execution_count": 8,
   "metadata": {},
   "outputs": [
    {
     "data": {
      "image/png": "[encoded data removed]",
      "text/plain": [
       "<Figure size 432x288 with 1 Axes>"
      ]
     },
     "metadata": {
      "needs_background": "light"
     },
     "output_type": "display_data"
    }
   ],
   "source": [
    "plt.scatter(weather_data[\"Lat\"], weather_data[\"Humidity\"])\n",
    "plt.grid()\n",
    "plt.title(\"Latitude vs. Humidity \")\n",
    "plt.xlabel('Latitude')\n",
    "plt.ylabel('Humidity')\n",
    "plt.show()"
   ]
  },
  {
   "cell_type": "markdown",
   "metadata": {},
   "source": [
    "#### Latitude vs. Cloudiness Plot"
   ]
  },
  {
   "cell_type": "code",
   "execution_count": 9,
   "metadata": {},
   "outputs": [
    {
     "data": {
      "image/png": "[encoded data removed]",
      "text/plain": [
       "<Figure size 432x288 with 1 Axes>"
      ]
     },
     "metadata": {
      "needs_background": "light"
     },
     "output_type": "display_data"
    }
   ],
   "source": [
    "plt.scatter(weather_data[\"Lat\"], weather_data[\"Cloudiness\"])\n",
    "plt.grid()\n",
    "plt.title(\"Latitude vs. Cloudiness \")\n",
    "plt.xlabel('Latitude')\n",
    "plt.ylabel('Cloudiness')\n",
    "plt.show()"
   ]
  },
  {
   "cell_type": "markdown",
   "metadata": {},
   "source": [
    "#### Latitude vs. Wind Speed Plot"
   ]
  },
  {
   "cell_type": "code",
   "execution_count": 10,
   "metadata": {},
   "outputs": [
    {
     "data": {
      "image/png": "[encoded data removed]",
      "text/plain": [
       "<Figure size 432x288 with 1 Axes>"
      ]
     },
     "metadata": {
      "needs_background": "light"
     },
     "output_type": "display_data"
    }
   ],
   "source": [
    "plt.scatter(weather_data[\"Lat\"], weather_data[\"Wind Speed\"])\n",
    "plt.grid()\n",
    "plt.title(\"Latitude vs. Wind Speed \")\n",
    "plt.xlabel('Latitude')\n",
    "plt.ylabel('Wind Speed')\n",
    "plt.show()"
   ]
  },
  {
   "cell_type": "markdown",
   "metadata": {},
   "source": [
    "## Linear Regression"
   ]
  },
  {
   "cell_type": "code",
   "execution_count": null,
   "metadata": {},
   "outputs": [],
   "source": [
    "# OPTIONAL: Create a function to create Linear Regression plots\n"
   ]
  },
  {
   "cell_type": "code",
   "execution_count": 11,
   "metadata": {},
   "outputs": [
    {
     "data": {
      "text/html": [
       "<div>\n",
       "<style scoped>\n",
       "    .dataframe tbody tr th:only-of-type {\n",
       "        vertical-align: middle;\n",
       "    }\n",
       "\n",
       "    .dataframe tbody tr th {\n",
       "        vertical-align: top;\n",
       "    }\n",
       "\n",
       "    .dataframe thead th {\n",
       "        text-align: right;\n",
       "    }\n",
       "</style>\n",
       "<table border=\"1\" class=\"dataframe\">\n",
       "  <thead>\n",
       "    <tr style=\"text-align: right;\">\n",
       "      <th></th>\n",
       "      <th>City</th>\n",
       "      <th>Cloudiness</th>\n",
       "      <th>Country</th>\n",
       "      <th>Date</th>\n",
       "      <th>Humidity</th>\n",
       "      <th>Temp</th>\n",
       "      <th>Lat</th>\n",
       "      <th>Lng</th>\n",
       "      <th>Wind Speed</th>\n",
       "    </tr>\n",
       "  </thead>\n",
       "  <tbody>\n",
       "    <tr>\n",
       "      <td>0</td>\n",
       "      <td>haines junction</td>\n",
       "      <td>99</td>\n",
       "      <td>CA</td>\n",
       "      <td>1585258769</td>\n",
       "      <td>73</td>\n",
       "      <td>-0.67</td>\n",
       "      <td>60.75</td>\n",
       "      <td>-137.51</td>\n",
       "      <td>2.90</td>\n",
       "    </tr>\n",
       "    <tr>\n",
       "      <td>1</td>\n",
       "      <td>guerrero negro</td>\n",
       "      <td>100</td>\n",
       "      <td>MX</td>\n",
       "      <td>1585258770</td>\n",
       "      <td>59</td>\n",
       "      <td>16.80</td>\n",
       "      <td>27.98</td>\n",
       "      <td>-114.06</td>\n",
       "      <td>10.00</td>\n",
       "    </tr>\n",
       "    <tr>\n",
       "      <td>4</td>\n",
       "      <td>georgetown</td>\n",
       "      <td>20</td>\n",
       "      <td>MY</td>\n",
       "      <td>1585258755</td>\n",
       "      <td>94</td>\n",
       "      <td>27.00</td>\n",
       "      <td>5.41</td>\n",
       "      <td>100.34</td>\n",
       "      <td>1.00</td>\n",
       "    </tr>\n",
       "    <tr>\n",
       "      <td>5</td>\n",
       "      <td>torbay</td>\n",
       "      <td>90</td>\n",
       "      <td>CA</td>\n",
       "      <td>1585258773</td>\n",
       "      <td>92</td>\n",
       "      <td>-1.67</td>\n",
       "      <td>47.67</td>\n",
       "      <td>-52.73</td>\n",
       "      <td>5.10</td>\n",
       "    </tr>\n",
       "    <tr>\n",
       "      <td>6</td>\n",
       "      <td>waltershausen</td>\n",
       "      <td>47</td>\n",
       "      <td>DE</td>\n",
       "      <td>1585258773</td>\n",
       "      <td>57</td>\n",
       "      <td>5.00</td>\n",
       "      <td>50.90</td>\n",
       "      <td>10.57</td>\n",
       "      <td>2.68</td>\n",
       "    </tr>\n",
       "  </tbody>\n",
       "</table>\n",
       "</div>"
      ],
      "text/plain": [
       "              City  Cloudiness Country        Date  Humidity   Temp    Lat  \\\n",
       "0  haines junction          99      CA  1585258769        73  -0.67  60.75   \n",
       "1   guerrero negro         100      MX  1585258770        59  16.80  27.98   \n",
       "4       georgetown          20      MY  1585258755        94  27.00   5.41   \n",
       "5           torbay          90      CA  1585258773        92  -1.67  47.67   \n",
       "6    waltershausen          47      DE  1585258773        57   5.00  50.90   \n",
       "\n",
       "      Lng  Wind Speed  \n",
       "0 -137.51        2.90  \n",
       "1 -114.06       10.00  \n",
       "4  100.34        1.00  \n",
       "5  -52.73        5.10  \n",
       "6   10.57        2.68  "
      ]
     },
     "execution_count": 11,
     "metadata": {},
     "output_type": "execute_result"
    }
   ],
   "source": [
    "# Create Northern Hemisphere DataFrames\n",
    "n_df =weather_data.loc[weather_data[\"Lat\"] >= 0]\n",
    "n_df.head()"
   ]
  },
  {
   "cell_type": "code",
   "execution_count": 12,
   "metadata": {},
   "outputs": [
    {
     "data": {
      "text/html": [
       "<div>\n",
       "<style scoped>\n",
       "    .dataframe tbody tr th:only-of-type {\n",
       "        vertical-align: middle;\n",
       "    }\n",
       "\n",
       "    .dataframe tbody tr th {\n",
       "        vertical-align: top;\n",
       "    }\n",
       "\n",
       "    .dataframe thead th {\n",
       "        text-align: right;\n",
       "    }\n",
       "</style>\n",
       "<table border=\"1\" class=\"dataframe\">\n",
       "  <thead>\n",
       "    <tr style=\"text-align: right;\">\n",
       "      <th></th>\n",
       "      <th>City</th>\n",
       "      <th>Cloudiness</th>\n",
       "      <th>Country</th>\n",
       "      <th>Date</th>\n",
       "      <th>Humidity</th>\n",
       "      <th>Temp</th>\n",
       "      <th>Lat</th>\n",
       "      <th>Lng</th>\n",
       "      <th>Wind Speed</th>\n",
       "    </tr>\n",
       "  </thead>\n",
       "  <tbody>\n",
       "    <tr>\n",
       "      <td>2</td>\n",
       "      <td>punta arenas</td>\n",
       "      <td>90</td>\n",
       "      <td>CL</td>\n",
       "      <td>1585258719</td>\n",
       "      <td>87</td>\n",
       "      <td>8.00</td>\n",
       "      <td>-53.15</td>\n",
       "      <td>-70.92</td>\n",
       "      <td>8.20</td>\n",
       "    </tr>\n",
       "    <tr>\n",
       "      <td>3</td>\n",
       "      <td>atuona</td>\n",
       "      <td>1</td>\n",
       "      <td>PF</td>\n",
       "      <td>1585258772</td>\n",
       "      <td>74</td>\n",
       "      <td>27.86</td>\n",
       "      <td>-9.80</td>\n",
       "      <td>-139.03</td>\n",
       "      <td>5.61</td>\n",
       "    </tr>\n",
       "    <tr>\n",
       "      <td>9</td>\n",
       "      <td>carnarvon</td>\n",
       "      <td>31</td>\n",
       "      <td>AU</td>\n",
       "      <td>1585258775</td>\n",
       "      <td>83</td>\n",
       "      <td>26.00</td>\n",
       "      <td>-24.87</td>\n",
       "      <td>113.63</td>\n",
       "      <td>6.20</td>\n",
       "    </tr>\n",
       "    <tr>\n",
       "      <td>11</td>\n",
       "      <td>esperance</td>\n",
       "      <td>9</td>\n",
       "      <td>AU</td>\n",
       "      <td>1585258776</td>\n",
       "      <td>54</td>\n",
       "      <td>21.20</td>\n",
       "      <td>-33.87</td>\n",
       "      <td>121.90</td>\n",
       "      <td>7.50</td>\n",
       "    </tr>\n",
       "    <tr>\n",
       "      <td>14</td>\n",
       "      <td>faanui</td>\n",
       "      <td>98</td>\n",
       "      <td>PF</td>\n",
       "      <td>1585258776</td>\n",
       "      <td>67</td>\n",
       "      <td>28.36</td>\n",
       "      <td>-16.48</td>\n",
       "      <td>-151.75</td>\n",
       "      <td>4.31</td>\n",
       "    </tr>\n",
       "  </tbody>\n",
       "</table>\n",
       "</div>"
      ],
      "text/plain": [
       "            City  Cloudiness Country        Date  Humidity   Temp    Lat  \\\n",
       "2   punta arenas          90      CL  1585258719        87   8.00 -53.15   \n",
       "3         atuona           1      PF  1585258772        74  27.86  -9.80   \n",
       "9      carnarvon          31      AU  1585258775        83  26.00 -24.87   \n",
       "11     esperance           9      AU  1585258776        54  21.20 -33.87   \n",
       "14        faanui          98      PF  1585258776        67  28.36 -16.48   \n",
       "\n",
       "       Lng  Wind Speed  \n",
       "2   -70.92        8.20  \n",
       "3  -139.03        5.61  \n",
       "9   113.63        6.20  \n",
       "11  121.90        7.50  \n",
       "14 -151.75        4.31  "
      ]
     },
     "execution_count": 12,
     "metadata": {},
     "output_type": "execute_result"
    }
   ],
   "source": [
    "# Create Southern Hemisphere DataFrames\n",
    "s_df =weather_data.loc[weather_data[\"Lat\"] < 0]\n",
    "s_df.head()"
   ]
  },
  {
   "cell_type": "markdown",
   "metadata": {},
   "source": [
    "####  Northern Hemisphere - Max Temp vs. Latitude Linear Regression"
   ]
  },
  {
   "cell_type": "code",
   "execution_count": 13,
   "metadata": {},
   "outputs": [
    {
     "name": "stdout",
     "output_type": "stream",
     "text": [
      "The r-squared is: -0.8828144372627897\n"
     ]
    },
    {
     "data": {
      "image/png": "[encoded data removed]",
      "text/plain": [
       "<Figure size 432x288 with 1 Axes>"
      ]
     },
     "metadata": {
      "needs_background": "light"
     },
     "output_type": "display_data"
    }
   ],
   "source": [
    "#Get the regress values\n",
    "(slope, intercept, rvalue, pvalue, stderr) = linregress(n_df[\"Lat\"], n_df[\"Temp\"])\n",
    "regress_values = n_df[\"Lat\"] * slope + intercept\n",
    "#show the plot\n",
    "plt.scatter(n_df[\"Lat\"], n_df[\"Temp\"])\n",
    "plt.plot(n_df[\"Lat\"],regress_values,color=\"red\")\n",
    "plt.grid()\n",
    "#plt.xlim(0, 80)\n",
    "#plt.ylim(0, 110)\n",
    "plt.xlabel('Latitude')\n",
    "plt.ylabel('Max Temperature')\n",
    "print(f\"The r-squared is: {rvalue}\")\n",
    "plt.show()"
   ]
  },
  {
   "cell_type": "markdown",
   "metadata": {},
   "source": [
    "####  Southern Hemisphere - Max Temp vs. Latitude Linear Regression"
   ]
  },
  {
   "cell_type": "code",
   "execution_count": 14,
   "metadata": {},
   "outputs": [
    {
     "name": "stdout",
     "output_type": "stream",
     "text": [
      "The r-squared is: 0.7102849156765695\n"
     ]
    },
    {
     "data": {
      "image/png": "[encoded data removed]",
      "text/plain": [
       "<Figure size 432x288 with 1 Axes>"
      ]
     },
     "metadata": {
      "needs_background": "light"
     },
     "output_type": "display_data"
    }
   ],
   "source": [
    "#Get the regress values\n",
    "(slope, intercept, rvalue, pvalue, stderr) = st.linregress(s_df[\"Lat\"], s_df[\"Temp\"])\n",
    "regress_values = s_df[\"Lat\"] * slope + intercept\n",
    "#show the plot\n",
    "plt.scatter(s_df[\"Lat\"], s_df[\"Temp\"])\n",
    "plt.plot(s_df[\"Lat\"],regress_values,color=\"red\")\n",
    "plt.xlabel('Latitude')\n",
    "plt.ylabel('Max Temperature')\n",
    "print(f\"The r-squared is: {rvalue}\")\n",
    "plt.grid()\n",
    "plt.show()"
   ]
  },
  {
   "cell_type": "markdown",
   "metadata": {},
   "source": [
    "####  Northern Hemisphere - Humidity (%) vs. Latitude Linear Regression"
   ]
  },
  {
   "cell_type": "code",
   "execution_count": 15,
   "metadata": {},
   "outputs": [
    {
     "name": "stdout",
     "output_type": "stream",
     "text": [
      "The r-squared is: 0.33793691018693645\n"
     ]
    },
    {
     "data": {
      "image/png": "[encoded data removed]",
      "text/plain": [
       "<Figure size 432x288 with 1 Axes>"
      ]
     },
     "metadata": {
      "needs_background": "light"
     },
     "output_type": "display_data"
    }
   ],
   "source": [
    "#Get the regress values\n",
    "(slope, intercept, rvalue, pvalue, stderr) = st.linregress(n_df[\"Lat\"], n_df[\"Humidity\"])\n",
    "regress_values = n_df[\"Lat\"] * slope + intercept\n",
    "#show the plot\n",
    "plt.scatter(n_df[\"Lat\"], n_df[\"Humidity\"])\n",
    "plt.grid()\n",
    "plt.plot(n_df[\"Lat\"],regress_values,color=\"red\")\n",
    "plt.xlabel('Latitude')\n",
    "plt.ylabel('Humidity')\n",
    "print(f\"The r-squared is: {rvalue}\")\n",
    "plt.show()"
   ]
  },
  {
   "cell_type": "markdown",
   "metadata": {},
   "source": [
    "####  Southern Hemisphere - Humidity (%) vs. Latitude Linear Regression"
   ]
  },
  {
   "cell_type": "code",
   "execution_count": 16,
   "metadata": {},
   "outputs": [
    {
     "name": "stdout",
     "output_type": "stream",
     "text": [
      "The r-squared is: 0.11226320114299321\n"
     ]
    },
    {
     "data": {
      "image/png": "[encoded data removed]",
      "text/plain": [
       "<Figure size 432x288 with 1 Axes>"
      ]
     },
     "metadata": {
      "needs_background": "light"
     },
     "output_type": "display_data"
    }
   ],
   "source": [
    "#Get the regress values\n",
    "(slope, intercept, rvalue, pvalue, stderr) = st.linregress(s_df[\"Lat\"], s_df[\"Humidity\"])\n",
    "regress_values = s_df[\"Lat\"] * slope + intercept\n",
    "#show the plot\n",
    "plt.scatter(s_df[\"Lat\"], s_df[\"Humidity\"])\n",
    "plt.grid()\n",
    "plt.plot(s_df[\"Lat\"],regress_values,color=\"red\")\n",
    "plt.xlabel('Latitude')\n",
    "plt.ylabel('Humidity')\n",
    "print(f\"The r-squared is: {rvalue}\")\n",
    "plt.show()"
   ]
  },
  {
   "cell_type": "markdown",
   "metadata": {},
   "source": [
    "####  Northern Hemisphere - Cloudiness (%) vs. Latitude Linear Regression"
   ]
  },
  {
   "cell_type": "code",
   "execution_count": 17,
   "metadata": {},
   "outputs": [
    {
     "name": "stdout",
     "output_type": "stream",
     "text": [
      "The r-squared is: 0.056519396358848534\n"
     ]
    },
    {
     "data": {
      "image/png": "[encoded data removed]",
      "text/plain": [
       "<Figure size 432x288 with 1 Axes>"
      ]
     },
     "metadata": {
      "needs_background": "light"
     },
     "output_type": "display_data"
    }
   ],
   "source": [
    "#Get the regress values\n",
    "(slope, intercept, rvalue, pvalue, stderr) = st.linregress(n_df[\"Lat\"], n_df[\"Cloudiness\"])\n",
    "regress_values = n_df[\"Lat\"] * slope + intercept\n",
    "#show the plot\n",
    "plt.scatter(n_df[\"Lat\"], n_df[\"Cloudiness\"])\n",
    "plt.grid()\n",
    "plt.plot(n_df[\"Lat\"],regress_values,color=\"red\")\n",
    "plt.xlabel('Latitude')\n",
    "plt.ylabel('Cloudiness')\n",
    "print(f\"The r-squared is: {rvalue}\")\n",
    "plt.show()"
   ]
  },
  {
   "cell_type": "markdown",
   "metadata": {},
   "source": [
    "####  Southern Hemisphere - Cloudiness (%) vs. Latitude Linear Regression"
   ]
  },
  {
   "cell_type": "code",
   "execution_count": 18,
   "metadata": {},
   "outputs": [
    {
     "name": "stdout",
     "output_type": "stream",
     "text": [
      "The r-squared is: 0.19775998055241178\n"
     ]
    },
    {
     "data": {
      "image/png": "[encoded data removed]",
      "text/plain": [
       "<Figure size 432x288 with 1 Axes>"
      ]
     },
     "metadata": {
      "needs_background": "light"
     },
     "output_type": "display_data"
    }
   ],
   "source": [
    "#Get the regress values\n",
    "(slope, intercept, rvalue, pvalue, stderr) = st.linregress(s_df[\"Lat\"], s_df[\"Cloudiness\"])\n",
    "regress_values = s_df[\"Lat\"] * slope + intercept\n",
    "#show the plot\n",
    "plt.scatter(s_df[\"Lat\"], s_df[\"Cloudiness\"])\n",
    "plt.grid()\n",
    "plt.plot(s_df[\"Lat\"],regress_values,color=\"red\")\n",
    "plt.xlabel('Latitude')\n",
    "plt.ylabel('Cloudiness')\n",
    "print(f\"The r-squared is: {rvalue}\")\n",
    "plt.show()"
   ]
  },
  {
   "cell_type": "markdown",
   "metadata": {},
   "source": [
    "####  Northern Hemisphere - Wind Speed (mph) vs. Latitude Linear Regression"
   ]
  },
  {
   "cell_type": "code",
   "execution_count": 19,
   "metadata": {},
   "outputs": [
    {
     "name": "stdout",
     "output_type": "stream",
     "text": [
      "The r-squared is: 0.17244897816957222\n"
     ]
    },
    {
     "data": {
      "image/png": "[encoded data removed]",
      "text/plain": [
       "<Figure size 432x288 with 1 Axes>"
      ]
     },
     "metadata": {
      "needs_background": "light"
     },
     "output_type": "display_data"
    }
   ],
   "source": [
    "#Get the regress values\n",
    "(slope, intercept, rvalue, pvalue, stderr) = st.linregress(n_df[\"Lat\"], n_df[\"Wind Speed\"])\n",
    "regress_values = n_df[\"Lat\"] * slope + intercept\n",
    "#show the plot\n",
    "plt.scatter(n_df[\"Lat\"], n_df[\"Wind Speed\"])\n",
    "plt.grid()\n",
    "plt.plot(n_df[\"Lat\"],regress_values,color=\"red\")\n",
    "plt.xlabel('Latitude')\n",
    "plt.ylabel('Wind Speed')\n",
    "print(f\"The r-squared is: {rvalue}\")\n",
    "plt.show()"
   ]
  },
  {
   "cell_type": "markdown",
   "metadata": {},
   "source": [
    "####  Southern Hemisphere - Wind Speed (mph) vs. Latitude Linear Regression"
   ]
  },
  {
   "cell_type": "code",
   "execution_count": 20,
   "metadata": {},
   "outputs": [
    {
     "name": "stdout",
     "output_type": "stream",
     "text": [
      "The r-squared is: -0.32524394547768515\n"
     ]
    },
    {
     "data": {
      "image/png": "[encoded data removed]",
      "text/plain": [
       "<Figure size 432x288 with 1 Axes>"
      ]
     },
     "metadata": {
      "needs_background": "light"
     },
     "output_type": "display_data"
    }
   ],
   "source": [
    "#Get the regress values\n",
    "(slope, intercept, rvalue, pvalue, stderr) = st.linregress(s_df[\"Lat\"], s_df[\"Wind Speed\"])\n",
    "regress_values = s_df[\"Lat\"] * slope + intercept\n",
    "#show the plot\n",
    "plt.scatter(s_df[\"Lat\"], s_df[\"Wind Speed\"])\n",
    "plt.grid()\n",
    "plt.plot(s_df[\"Lat\"],regress_values,color=\"red\")\n",
    "plt.xlabel('Latitude')\n",
    "plt.ylabel('Wind Speed')\n",
    "print(f\"The r-squared is: {rvalue}\")\n",
    "plt.show()"
   ]
  }
 ],
 "metadata": {
  "anaconda-cloud": {},
  "kernel_info": {
   "name": "python3"
  },
  "kernelspec": {
   "display_name": "Python 3",
   "language": "python",
   "name": "python3"
  },
  "language_info": {
   "codemirror_mode": {
    "name": "ipython",
    "version": 3
   },
   "file_extension": ".py",
   "mimetype": "text/x-python",
   "name": "python",
   "nbconvert_exporter": "python",
   "pygments_lexer": "ipython3",
   "version": "3.7.4"
  },
  "latex_envs": {
   "LaTeX_envs_menu_present": true,
   "autoclose": false,
   "autocomplete": true,
   "bibliofile": "biblio.bib",
   "cite_by": "apalike",
   "current_citInitial": 1,
   "eqLabelWithNumbers": true,
   "eqNumInitial": 1,
   "hotkeys": {
    "equation": "Ctrl-E",
    "itemize": "Ctrl-I"
   },
   "labels_anchors": false,
   "latex_user_defs": false,
   "report_style_numbering": false,
   "user_envs_cfg": false
  },
  "nteract": {
   "version": "0.12.3"
  }
 },
 "nbformat": 4,
 "nbformat_minor": 4
}
